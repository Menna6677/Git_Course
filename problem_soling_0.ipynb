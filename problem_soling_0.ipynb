{
  "nbformat": 4,
  "nbformat_minor": 0,
  "metadata": {
    "colab": {
      "provenance": [],
      "authorship_tag": "ABX9TyNd4WAodZShY79csjpJHSv/",
      "include_colab_link": true
    },
    "kernelspec": {
      "name": "python3",
      "display_name": "Python 3"
    },
    "language_info": {
      "name": "python"
    }
  },
  "cells": [
    {
      "cell_type": "markdown",
      "metadata": {
        "id": "view-in-github",
        "colab_type": "text"
      },
      "source": [
        "<a href=\"https://colab.research.google.com/github/Menna6677/Git_Course/blob/main/problem_soling_0.ipynb\" target=\"_parent\"><img src=\"https://colab.research.google.com/assets/colab-badge.svg\" alt=\"Open In Colab\"/></a>"
      ]
    },
    {
      "cell_type": "code",
      "source": [
        "#Practical Membership Control\n",
        "users=[\"menna\",\"mohamed\",\"ahmed\",\"zaki\"]\n",
        "userName=input(\"Enter Your UserName, Please.\").strip().lower()\n",
        "if userName in users:\n",
        "  operation=input(\"you wanna delete or change your UserName:\").strip().lower()\n",
        "  if operation==\"delete\":\n",
        "    users.remove(userName)\n",
        "    print(f\"Thr List Of Admins is: {users}\")\n",
        "  else:\n",
        "    new=input(\"Enter The New UserName:\").strip().lower()\n",
        "    indexing=users.index(userName)\n",
        "    users[indexing]=new\n",
        "    print(f\"The new list is: {users}\")\n",
        "elif userName not in users:\n",
        "    users.insert(0,userName)\n",
        "    print(f\"The new list is: {users}\")"
      ],
      "metadata": {
        "id": "b21HWCMOQnQJ",
        "colab": {
          "base_uri": "https://localhost:8080/"
        },
        "outputId": "ffc90a91-9091-46d6-abeb-4d98fe754cce"
      },
      "execution_count": null,
      "outputs": [
        {
          "output_type": "stream",
          "name": "stdout",
          "text": [
            "Enter Your UserName, Please.a\n",
            "The new list is: ['a', 'menna', 'mohamed', 'ahmed', 'zaki']\n"
          ]
        }
      ]
    },
    {
      "cell_type": "code",
      "execution_count": null,
      "metadata": {
        "id": "BJyzjCZOhQPM",
        "colab": {
          "base_uri": "https://localhost:8080/"
        },
        "outputId": "53aad399-4693-40ca-f8ad-1bb9c10dfb8e"
      },
      "outputs": [
        {
          "output_type": "stream",
          "name": "stdout",
          "text": [
            "Please, Enter Your Email:\n",
            "menna@gmail.com\n",
            "The User Name Is: menna\n",
            "The Site Name Is: gmail\n"
          ]
        }
      ],
      "source": [
        "#Slicing Email\n",
        "email=input(\"Please, Enter Your Email:\\n\")\n",
        "for user in email:\n",
        "  if user==\"@\":\n",
        "    indexing1=email.index(user)\n",
        "  if user==\".\":\n",
        "    indexing2=email.index(user)\n",
        "    break\n",
        "print(f\"The User Name Is: {email[:indexing1]}\")\n",
        "print(f\"The Site Name Is: {email[indexing1+1:indexing2]}\")\n"
      ]
    },
    {
      "cell_type": "code",
      "source": [
        "#Empty List To Fill Later\n",
        "myEmptyList=[]\n",
        "Max_length=5\n",
        "a=0\n",
        "while a<=Max_length:\n",
        "  newElement=input(\"Enter The Element You Want to Store: \").strip()\n",
        "  myEmptyList.append(newElement)\n",
        "  a+=1\n",
        "print(f\"The Updated List Is: {myEmptyList}\")"
      ],
      "metadata": {
        "colab": {
          "base_uri": "https://localhost:8080/"
        },
        "id": "HctePzYvu2Up",
        "outputId": "fb5bfcd4-3862-4391-f8b5-5a2fa0cd726f"
      },
      "execution_count": null,
      "outputs": [
        {
          "output_type": "stream",
          "name": "stdout",
          "text": [
            "Enter The Element You Want to Store: menna\n",
            "Enter The Element You Want to Store: mohamed\n",
            "Enter The Element You Want to Store: ahmed\n",
            "Enter The Element You Want to Store: zaki\n",
            "Enter The Element You Want to Store: adam\n",
            "Enter The Element You Want to Store: hh\n",
            "The Updated List Is: ['menna', 'mohamed', 'ahmed', 'zaki', 'adam', 'hh']\n"
          ]
        }
      ]
    },
    {
      "cell_type": "code",
      "source": [
        "#Enter Your Password\n",
        "counter=5\n",
        "while counter>0:\n",
        "  password=int(input(\"Enter Your Password, Please: \"))\n",
        "  if password==4321 and counter==5:\n",
        "    print(\"Congratulation!This the Correct Password in The First Try.\")\n",
        "    break\n",
        "  elif password==4321 and counter!=5:\n",
        "    print(\"Congratulation!This the Correct Password\")\n",
        "    break\n",
        "  else:\n",
        "    print(f\"This Wrong Password\\n, it remains {counter-1} Atemmps\")\n",
        "    counter-=1\n",
        "    continue\n",
        "if counter==0:\n",
        "  print(\"You Can\\'t Write a Password Anymore\")\n",
        "\n"
      ],
      "metadata": {
        "colab": {
          "base_uri": "https://localhost:8080/"
        },
        "id": "CEhnDA570oso",
        "outputId": "4add772d-e735-4f21-be1f-f06ed7c7b0f9"
      },
      "execution_count": null,
      "outputs": [
        {
          "output_type": "stream",
          "name": "stdout",
          "text": [
            "Enter Your Password, Please: 5\n",
            "This Wrong Password\n",
            ", it remains 4 Atemmps\n",
            "Enter Your Password, Please: 4\n",
            "This Wrong Password\n",
            ", it remains 3 Atemmps\n",
            "Enter Your Password, Please: 3\n",
            "This Wrong Password\n",
            ", it remains 2 Atemmps\n",
            "Enter Your Password, Please: 2\n",
            "This Wrong Password\n",
            ", it remains 1 Atemmps\n",
            "Enter Your Password, Please: 1\n",
            "This Wrong Password\n",
            ", it remains 0 Atemmps\n",
            "You Can't Write a Password Anymore\n"
          ]
        }
      ]
    },
    {
      "cell_type": "code",
      "source": [
        "#Calculator program\n",
        "def add(num1,num2):\n",
        "  print(f\"The Sum Of Two Numbers Is: {num1+num2}\")\n",
        "def subtract(num1,num2):\n",
        "  print(f\"The Sum Of Two Numbers Is: {num1-num2}\")\n",
        "def multiply(num1,num2):\n",
        "  print(f\"The Sum Of Two Numbers Is: {num1*num2}\")\n",
        "num1=int(input(\"Please Enter The First Number:\"))\n",
        "num2=int(input(\"Please Enter The Second Number:\"))\n",
        "operation=input(\"Please Enter The Operation:\").strip().lower()\n",
        "if operation==\"add\" or operation==\"+\":\n",
        "  add(num1,num2)\n",
        "elif operation==\"subtract\" or operation==\"-\":\n",
        "  subtract(num1,num2)\n",
        "elif operation==\"multiply\" or operation==\"*\":\n",
        "  multiply(num1,num2)\n",
        "else:\n",
        "  print(\"There Is nothing To Show\")\n"
      ],
      "metadata": {
        "colab": {
          "base_uri": "https://localhost:8080/"
        },
        "id": "UIszKwqGOxjz",
        "outputId": "0166dc87-3408-4946-c7e2-82816407d34a"
      },
      "execution_count": null,
      "outputs": [
        {
          "output_type": "stream",
          "name": "stdout",
          "text": [
            "Please Enter The First Number:5\n",
            "Please Enter The Second Number:5\n",
            "Please Enter The Operation:+\n",
            "The Sum Of Two Numbers Is: 10\n"
          ]
        }
      ]
    },
    {
      "cell_type": "code",
      "source": [
        "#Daily Wages\n",
        "hourly_wage=float(input(\"Please, Enter The Hourly Wage: \"))\n",
        "hours_worked=float(input(\"Please, Enter The Hours Worked: \"))\n",
        "dayOfTheWeek=input(\"Please, Enter The day Of The Week: \").strip().lower()\n",
        "if dayOfTheWeek==\"sunday\":\n",
        "  daily_wages=hourly_wage*hours_worked*2\n",
        "  print(f\"The Daily Wages Will Be: {daily_wages}\")\n",
        "else:\n",
        "    daily_wages=hourly_wage*hours_worked\n",
        "    print(f\"The Daily Wages Will Be: {daily_wages}\")"
      ],
      "metadata": {
        "colab": {
          "base_uri": "https://localhost:8080/"
        },
        "id": "UhDjjSv6QiEV",
        "outputId": "a8200295-21e7-483a-84ea-03962f220e12"
      },
      "execution_count": null,
      "outputs": [
        {
          "output_type": "stream",
          "name": "stdout",
          "text": [
            "Please, Enter The Hourly Wage: 12.5\n",
            "Please, Enter The Hours Worked: 10\n",
            "Please, Enter The day Of The Week: sunday\n",
            "The Daily Wages Will Be: 250.0\n"
          ]
        }
      ]
    },
    {
      "cell_type": "code",
      "source": [
        "# Fix the program\n",
        "points = int(input(\"How many points are on your card? \"))\n",
        "if points >= 100:\n",
        "    points *= 1.15\n",
        "    print(\"Your bonus is 15 %\")\n",
        "if points < 100:\n",
        "    points *= 1.1\n",
        "    print(\"Your bonus is 10 %\")\n",
        "\n",
        "print(\"You now have\", points, \"points\")"
      ],
      "metadata": {
        "colab": {
          "base_uri": "https://localhost:8080/"
        },
        "id": "WDmcWRvnS2KL",
        "outputId": "12e9ef97-b6e8-45a2-b090-d98ad39b6105"
      },
      "execution_count": null,
      "outputs": [
        {
          "output_type": "stream",
          "name": "stdout",
          "text": [
            "How many points are on your card? 95\n",
            "Your bonus is 10 %\n",
            "You now have 104.50000000000001 points\n"
          ]
        }
      ]
    },
    {
      "cell_type": "code",
      "source": [
        "#FizzBuzz\n",
        "num=int(input(\"Please Enter The Number:\"))\n",
        "if num%3==0 and num%5==0:\n",
        "  print(\"FizzBuzz\")\n",
        "elif num%3==0:\n",
        "  print(\"Fizz\")\n",
        "elif num%5==0:\n",
        "  print(\"Buzz\")\n",
        "else:\n",
        "  print(\"Nothing\")\n",
        "\n"
      ],
      "metadata": {
        "colab": {
          "base_uri": "https://localhost:8080/"
        },
        "id": "rKjJ81mCT7xi",
        "outputId": "6536dfcd-dbb3-4f1b-aaf2-3c90cc569df9"
      },
      "execution_count": null,
      "outputs": [
        {
          "output_type": "stream",
          "name": "stdout",
          "text": [
            "Please Enter The Number:45\n",
            "FizzBuzz\n"
          ]
        }
      ]
    },
    {
      "cell_type": "code",
      "source": [
        "#PIN and Number of Attempts\n",
        "counter=1\n",
        "while True:\n",
        "  PIN=int(input(\"Please Enter Your PIN:\"))\n",
        "  if PIN==4321 and counter==1:\n",
        "    print(\"Congratulation!Correct From The First Try.\")\n",
        "    break\n",
        "  elif PIN==4321 and counter!=1:\n",
        "     print(f\"Correct From {counter} Attemps.\")\n",
        "     break\n",
        "  else:\n",
        "     print(f\"This A wrong PIN, This a {counter} Attemps\")\n",
        "     counter+=1\n"
      ],
      "metadata": {
        "colab": {
          "base_uri": "https://localhost:8080/"
        },
        "id": "ah1Hm5KpU3y6",
        "outputId": "f34cb2bc-6eff-49c2-8078-2e29f45ed8de"
      },
      "execution_count": null,
      "outputs": [
        {
          "output_type": "stream",
          "name": "stdout",
          "text": [
            "Please Enter Your PIN:5\n",
            "This A wrong PIN, This a 1 Attemps\n",
            "Please Enter Your PIN:6\n",
            "This A wrong PIN, This a 2 Attemps\n",
            "Please Enter Your PIN:4321\n",
            "Correct From 3 Attemps.\n"
          ]
        }
      ]
    },
    {
      "cell_type": "code",
      "source": [
        "#Display Numbers\n",
        "for num in range(-10,-1):\n",
        "  print(num)"
      ],
      "metadata": {
        "colab": {
          "base_uri": "https://localhost:8080/"
        },
        "id": "tpX_3cMgWQ8a",
        "outputId": "61fbdcd1-0e62-436b-cf16-ccbccf2d3a2f"
      },
      "execution_count": null,
      "outputs": [
        {
          "output_type": "stream",
          "name": "stdout",
          "text": [
            "-10\n",
            "-9\n",
            "-8\n",
            "-7\n",
            "-6\n",
            "-5\n",
            "-4\n",
            "-3\n",
            "-2\n"
          ]
        }
      ]
    },
    {
      "cell_type": "code",
      "source": [
        "#Reversed Integer Numbers\n",
        "number=76542\n",
        "reversed_number=0\n",
        "while number>0:\n",
        "  digit=number%10    #To Obtain The Last Index In The Number\n",
        "  reversed_number=reversed_number*10+digit\n",
        "  number=number//10\n",
        "print(f\"The Reversed Number Is: {reversed_number}\")\n"
      ],
      "metadata": {
        "colab": {
          "base_uri": "https://localhost:8080/"
        },
        "id": "CstUv0OFWh4e",
        "outputId": "0d6c8907-3240-4202-e244-87a2de45cf9a"
      },
      "execution_count": null,
      "outputs": [
        {
          "output_type": "stream",
          "name": "stdout",
          "text": [
            "The Reversed Number Is: 24567\n"
          ]
        }
      ]
    },
    {
      "cell_type": "code",
      "source": [
        "#Student Average\n",
        "myDict={\n",
        "    \"Menna\":[50,60,70],\n",
        "    \"Mohamed\":[80,70,10],\n",
        "    \"Ahmed\":[50,20,30],\n",
        "}\n",
        "avg=[]\n",
        "for names,grades in myDict.items():\n",
        "  sum=0\n",
        "  for grade in grades:\n",
        "    sum+=grade\n",
        "    average=sum/len(grades)\n",
        "    avg.append(average)\n",
        "  print(f\"The Average Grade For {names} is : {average:.2f}\")\n",
        "print(f\"The Maximum Average is: {max(avg)}\")"
      ],
      "metadata": {
        "colab": {
          "base_uri": "https://localhost:8080/"
        },
        "id": "QKpHTApzMNvU",
        "outputId": "6215811a-b713-4ad0-b31f-63649061e437"
      },
      "execution_count": null,
      "outputs": [
        {
          "output_type": "stream",
          "name": "stdout",
          "text": [
            "The Average Grade For Menna is : 60.00\n",
            "The Average Grade For Mohamed is : 53.33\n",
            "The Average Grade For Ahmed is : 33.33\n",
            "The Maximum Average is: 60.0\n"
          ]
        }
      ]
    },
    {
      "cell_type": "code",
      "source": [
        "#Shopping Cart\n",
        "myDict={\n",
        "    \"apple\":5,\n",
        "    \"banana\":4,\n",
        "    \"orange\":10,\n",
        "    \"labtop\":120,\n",
        "    \"Computer\":150,\n",
        "    \"tablet\":80,\n",
        "    \"ipad\":90\n",
        "}\n",
        "counter=1\n",
        "list_of_products=[]\n",
        "list_of_Prices=[]\n",
        "while counter<len(myDict):\n",
        "  myItem=input(\"Enter The Item You Want To purchase: \")\n",
        "  if myItem==\"stop\":\n",
        "    break\n",
        "  else:\n",
        "    for products,prices in myDict.items():\n",
        "      if myItem==products:\n",
        "        list_of_products.append(products)\n",
        "        list_of_Prices.append(prices)\n",
        "print(f\"The Items You Want to purchase:\\n\",end=\" \")\n",
        "print(*list_of_products)\n",
        "sum=0\n",
        "for price in list_of_Prices:\n",
        "  sum+=price\n",
        "print(f\"The Total Price Is: {sum}\")\n",
        "\n",
        "\n"
      ],
      "metadata": {
        "colab": {
          "base_uri": "https://localhost:8080/"
        },
        "id": "FRXKTPp2PKpE",
        "outputId": "c2a95c15-4549-453b-8a4d-af27c2207696"
      },
      "execution_count": null,
      "outputs": [
        {
          "output_type": "stream",
          "name": "stdout",
          "text": [
            "Enter The Item You Want To purchase: apple\n",
            "Enter The Item You Want To purchase: labtop\n",
            "Enter The Item You Want To purchase: stop\n",
            "The Items You Want to purchase:\n",
            " apple labtop\n",
            "The Total Price Is: 125\n"
          ]
        }
      ]
    },
    {
      "cell_type": "code",
      "source": [
        "#Employee DataBase\n",
        "myList=[\n",
        "    {\n",
        "        \"name\":\"Menna\",\n",
        "        \"age\":20,\n",
        "        \"department\":\"CS\"\n",
        "    },\n",
        "    {\n",
        "        \"name\":\"Mohamed\",\n",
        "        \"age\":30,\n",
        "        \"department\":\"IT\"\n",
        "    },\n",
        "    {\n",
        "        \"name\":\"Abdulrahman\",\n",
        "        \"age\":50,\n",
        "        \"department\":\"IT\"\n",
        "    },\n",
        "    {\n",
        "        \"name\":\"Ahmed\",\n",
        "        \"age\":40,\n",
        "        \"department\":\"CS\"\n",
        "    }\n",
        "]\n",
        "list_CS_department=[]\n",
        "list_IT_department=[]\n",
        "ages=[]\n",
        "for element in myList:\n",
        "  for attributes,values in element.items():\n",
        "    if attributes==\"name\":\n",
        "      fname=values\n",
        "    if values==\"CS\":\n",
        "        list_CS_department.append(fname)\n",
        "    if values==\"IT\":\n",
        "        list_IT_department.append(fname)\n",
        "    if attributes==\"age\":\n",
        "         ages.append(values)\n",
        "print(f\"The Students In CS: {list_CS_department}\")\n",
        "print(f\"The Students In IT: {list_IT_department}\")\n",
        "total=0\n",
        "for age in ages:\n",
        "  total+=age\n",
        "print(f\"The Averge Age Of Employee is: {total/len(ages)}\")"
      ],
      "metadata": {
        "colab": {
          "base_uri": "https://localhost:8080/"
        },
        "id": "pcjwp5gWTqiJ",
        "outputId": "9f742295-d0d1-43d0-825a-60ebbc12cf04"
      },
      "execution_count": null,
      "outputs": [
        {
          "output_type": "stream",
          "name": "stdout",
          "text": [
            "The Students In CS: ['Menna', 'Ahmed']\n",
            "The Students In IT: ['Mohamed', 'Abdulrahman']\n",
            "The Averge Age Of Employee is: 35.0\n"
          ]
        }
      ]
    },
    {
      "cell_type": "code",
      "source": [
        "#Lists\n",
        "myList=[]\n",
        "for num in range(1,11):\n",
        "  myList.append(num)\n",
        "print(f\"My List Is: {myList}\")\n",
        "print(f\"The First Element Is: {myList[0]}\")\n",
        "print(f\"The Last Element Is: {myList[-1]}\")\n",
        "myList.reverse()\n",
        "print(f\"The Reversed List Is: {myList}\")\n",
        "sum=0\n",
        "for num in myList:\n",
        "  sum+=num\n",
        "print(f\"The Sum is: {sum}\")"
      ],
      "metadata": {
        "colab": {
          "base_uri": "https://localhost:8080/"
        },
        "id": "VLcTuQH1WIk0",
        "outputId": "b02d40ab-c2a5-4f2c-db38-434f7f6ff167"
      },
      "execution_count": null,
      "outputs": [
        {
          "output_type": "stream",
          "name": "stdout",
          "text": [
            "My List Is: [1, 2, 3, 4, 5, 6, 7, 8, 9, 10]\n",
            "The First Element Is: 1\n",
            "The Last Element Is: 10\n",
            "The Reversed List Is: [10, 9, 8, 7, 6, 5, 4, 3, 2, 1]\n",
            "The Sum is: 55\n"
          ]
        }
      ]
    },
    {
      "cell_type": "code",
      "source": [
        "#Dictionary\n",
        "myDict={1:1,2:4,3:9,4:16,5:25}\n",
        "for keys,values in myDict.items():\n",
        "  print(f\"The Key is {keys} and His Respective Value is {values}\")\n",
        "  if keys==4:\n",
        "    print(\"four is exist\")\n",
        "newDict={6:36}\n",
        "myDict.update(newDict)\n",
        "print(f\"My Dictionary is {myDict}\")\n"
      ],
      "metadata": {
        "colab": {
          "base_uri": "https://localhost:8080/"
        },
        "id": "LHZQeEqsXkTm",
        "outputId": "8cebc5bc-8efc-4ee3-fe51-5c1b77b50e56"
      },
      "execution_count": null,
      "outputs": [
        {
          "output_type": "stream",
          "name": "stdout",
          "text": [
            "The Key is 1 and His Respective Value is 1\n",
            "The Key is 2 and His Respective Value is 4\n",
            "The Key is 3 and His Respective Value is 9\n",
            "The Key is 4 and His Respective Value is 16\n",
            "four is exist\n",
            "The Key is 5 and His Respective Value is 25\n",
            "My Dictionary is {1: 1, 2: 4, 3: 9, 4: 16, 5: 25, 6: 36}\n"
          ]
        }
      ]
    },
    {
      "cell_type": "code",
      "source": [
        "#Triangle\n",
        "def triangle(num):\n",
        "  print(\"#\"*num)\n",
        "triangle(6)\n",
        "triangle(5)\n",
        "triangle(4)"
      ],
      "metadata": {
        "colab": {
          "base_uri": "https://localhost:8080/"
        },
        "id": "yGHGHvQNZKr-",
        "outputId": "ca45c564-0b6a-4c01-81d9-09d4e76c6d49"
      },
      "execution_count": null,
      "outputs": [
        {
          "output_type": "stream",
          "name": "stdout",
          "text": [
            "######\n",
            "#####\n",
            "####\n"
          ]
        }
      ]
    },
    {
      "cell_type": "code",
      "source": [
        "#Greatest Number\n",
        "def greatest_number(num1,num2,num3):\n",
        "  if num1>num2 and num1>num3:\n",
        "    print(\"Number one Is the Greatest Number\")\n",
        "  elif num2>num1 and num2>num3:\n",
        "    print(\"Number Two Is the Greatest Number\")\n",
        "  elif num3>num2 and num3>num1:\n",
        "    print(\"Number Three Is the Greatest Number\")\n",
        "greatest_number(1,2,3)\n",
        "greatest_number(1,10,3)\n",
        "greatest_number(120,2,3)"
      ],
      "metadata": {
        "colab": {
          "base_uri": "https://localhost:8080/"
        },
        "id": "IZpwcGv3ctHq",
        "outputId": "9ef42e48-a240-4bf2-c003-0b8cd57347ad"
      },
      "execution_count": null,
      "outputs": [
        {
          "output_type": "stream",
          "name": "stdout",
          "text": [
            "Number Three Is the Greatest Number\n",
            "Number Two Is the Greatest Number\n",
            "Number one Is the Greatest Number\n"
          ]
        }
      ]
    },
    {
      "cell_type": "code",
      "source": [
        "#Sum Series\n",
        "def sum_series(num):\n",
        "  sum=0\n",
        "  for num in range(1,num+1):\n",
        "    if num%2==0:\n",
        "      sum-=num\n",
        "    else:\n",
        "      sum+=num\n",
        "  return sum\n",
        "print(sum_series(6))"
      ],
      "metadata": {
        "colab": {
          "base_uri": "https://localhost:8080/"
        },
        "id": "Xo9TSdfVdZ8R",
        "outputId": "bf89c5ec-22e9-47af-f464-739dede4f28b"
      },
      "execution_count": null,
      "outputs": [
        {
          "output_type": "stream",
          "name": "stdout",
          "text": [
            "-3\n"
          ]
        }
      ]
    },
    {
      "cell_type": "code",
      "source": [
        "#Factorial\n",
        "def factorial(num):\n",
        "  res=1\n",
        "  while num>0:\n",
        "    res*=num\n",
        "    num-=1\n",
        "  print(res)\n",
        "factorial(3)\n",
        "factorial(4)"
      ],
      "metadata": {
        "colab": {
          "base_uri": "https://localhost:8080/"
        },
        "id": "uYTyvuxNoHDI",
        "outputId": "38490f1e-88ff-419b-aa6c-0288a5666527"
      },
      "execution_count": null,
      "outputs": [
        {
          "output_type": "stream",
          "name": "stdout",
          "text": [
            "6\n",
            "24\n"
          ]
        }
      ]
    },
    {
      "cell_type": "code",
      "source": [
        "#Reverse String\n",
        "def reverse(word):\n",
        "  if word[:]==word[::-1]:\n",
        "    return True\n",
        "  else:\n",
        "    return False\n",
        "\n",
        "reverse(\"level\")"
      ],
      "metadata": {
        "colab": {
          "base_uri": "https://localhost:8080/"
        },
        "id": "Co4AwXr9o2cN",
        "outputId": "53b5e649-0838-46b8-cc92-29909d0f38ab"
      },
      "execution_count": null,
      "outputs": [
        {
          "output_type": "execute_result",
          "data": {
            "text/plain": [
              "True"
            ]
          },
          "metadata": {},
          "execution_count": 45
        }
      ]
    },
    {
      "cell_type": "code",
      "source": [
        "#Word Frequency\n",
        "myString=\"Menna Menna Abdulrahman Mohamed Ahmed Addulrahman Ahmed Ahmed\"\n",
        "\n",
        "#I can convert the string into list by using split()\n",
        "myList=myString.split()\n",
        "printed_items=[]\n",
        "\n",
        "for item in myList:\n",
        "  if item in printed_items:\n",
        "    continue\n",
        "  print(f\"The {item} is Reapeted {myList.count(item)} Times\")\n",
        "  printed_items.append(item)\n"
      ],
      "metadata": {
        "colab": {
          "base_uri": "https://localhost:8080/"
        },
        "id": "nPoMkaMno6hB",
        "outputId": "99e88880-4ab2-491a-ef65-7bdc2e19aefb"
      },
      "execution_count": null,
      "outputs": [
        {
          "output_type": "stream",
          "name": "stdout",
          "text": [
            "The Menna is Reapeted 2 Times\n",
            "The Abdulrahman is Reapeted 1 Times\n",
            "The Mohamed is Reapeted 1 Times\n",
            "The Ahmed is Reapeted 3 Times\n",
            "The Addulrahman is Reapeted 1 Times\n"
          ]
        }
      ]
    },
    {
      "cell_type": "code",
      "source": [
        "#stocking\n",
        "def list_products():\n",
        "  for products,attributes in myStock.items():\n",
        "    listOfProducts.append(products)\n",
        "def return_item(item_returned):\n",
        "  for products,attributes in myStock.items():\n",
        "    if item_returned==products:\n",
        "      for char,number in attributes.items():\n",
        "        if char==\"quantity\":\n",
        "          number+=1\n",
        "  print(f\"The Quantity left {number} \")\n",
        "\n",
        "def purchase_item(item_purchased):\n",
        "  for products,attributes in myStock.items():\n",
        "    if item_purchased==products:\n",
        "      for char,number in attributes.items():\n",
        "        if char==\"quantity\":\n",
        "          number-=1\n",
        "  print(f\"The Quantity left {number} and You Should Restock  Items {20-number}\")\n",
        "\n",
        "myStock={\n",
        "    \"clothes\":{\"price\":70,\"quantity\":20},\n",
        "    \"makeup\":{\"price\":40,\"quantity\":20},\n",
        "    \"cusmetics\":{\"price\":50,\"quantity\":20},\n",
        "    \"devices\":{\"price\":120,\"quantity\":20},\n",
        "    \"stikers\":{\"price\":20,\"quantity\":20}\n",
        "}\n",
        "listOfProducts=[]\n",
        "list_products()\n",
        "list_operation=[\"return\",\"purchase\"]\n",
        "\n",
        "while True:\n",
        "  operation=input(\"Choose The Operation You Want To Make: \")\n",
        "  if operation==\"return\":\n",
        "    item_returned=input(\"Choose The Item You Want To Return: \")\n",
        "    if item_returned==\"stop\":\n",
        "      break\n",
        "    elif  item_returned not in listOfProducts:\n",
        "      print(\"This Item Not Found\")\n",
        "    else:\n",
        "      return_item(item_returned)\n",
        "  if operation==\"purchase\":\n",
        "    item_purchased=input(\"Choose The Item You Want To purchase: \")\n",
        "    if item_purchased==\"stop\":\n",
        "      break\n",
        "    elif  item_purchased not in listOfProducts:\n",
        "      print(\"This Item Not Found\")\n",
        "    else:\n",
        "      purchase_item(item_purchased)\n",
        "  if operation==\"stop\":\n",
        "    break\n",
        "  if operation not in  list_operation:\n",
        "    print(\"This Operation Not Found\")\n",
        "\n"
      ],
      "metadata": {
        "colab": {
          "base_uri": "https://localhost:8080/"
        },
        "id": "oYHB1gsK4vBs",
        "outputId": "718e4543-752e-40a0-cbe4-c144f3b83891"
      },
      "execution_count": null,
      "outputs": [
        {
          "name": "stdout",
          "output_type": "stream",
          "text": [
            "Choose The Operation You Want To Make: f\n",
            "This Operation Not Found\n",
            "Choose The Operation You Want To Make: return\n",
            "Choose The Item You Want To Return: makeup\n",
            "The Quantity left 21 \n",
            "Choose The Operation You Want To Make: stop\n"
          ]
        }
      ]
    },
    {
      "cell_type": "code",
      "source": [
        "def print_name(name,*skills):\n",
        "  print(f\"Hello, {name}\")\n",
        "  for skill in skills:\n",
        "    print(f\" The Skills is {skill}\")\n",
        "print_name(\"Eyad\",\"html\",\"css\",\"js\")\n"
      ],
      "metadata": {
        "colab": {
          "base_uri": "https://localhost:8080/"
        },
        "id": "o2JnvshlQ-fy",
        "outputId": "d6eead57-fd34-4970-b9d2-bfb08ae2a572"
      },
      "execution_count": null,
      "outputs": [
        {
          "output_type": "stream",
          "name": "stdout",
          "text": [
            "Hello, Eyad\n",
            " The Skills is html\n",
            " The Skills is css\n",
            " The Skills is js\n"
          ]
        }
      ]
    },
    {
      "cell_type": "code",
      "source": [
        "#List The books\n",
        "def list_books(library):\n",
        "  for genre,books in library.items():\n",
        "    print(f\"The Books in {genre} department is :\")\n",
        "    for book in books:\n",
        "      print(book)\n",
        "\n",
        "def add(library):\n",
        "  list_genre=[]\n",
        "  for genre,books in library.items():\n",
        "    list_genre.append(genre)\n",
        "    if exist_genre in list_genre:\n",
        "      books.append(The_Book)\n",
        "      break\n",
        "\n",
        "\n",
        "library = {\n",
        "    \"Fiction\": [\"1984\", \"To Kill a Mockingbird\"],\n",
        "    \"Science\": [\"A Brief History of Time\", \"The Selfish Gene\"],\n",
        "    \"History\": [\"Sapiens\", \"Guns, Germs, and Steel\"]\n",
        "}\n",
        "exist_genre=input(\"Enter THe Genre You Want to Add a Book In It: \")\n",
        "The_Book=input(\"Enter The Book You Want To Exist In The Library: \")\n",
        "\n",
        "\n",
        "\n",
        "\n",
        "\n",
        "\n",
        "add(library)\n",
        "list_books(library)\n",
        "\n",
        "\n"
      ],
      "metadata": {
        "colab": {
          "base_uri": "https://localhost:8080/"
        },
        "id": "kwKIwYf6m9Xm",
        "outputId": "3281a959-bec3-4d0d-d547-b91ff5f2b4ca"
      },
      "execution_count": null,
      "outputs": [
        {
          "output_type": "stream",
          "name": "stdout",
          "text": [
            "Enter THe Genre You Want to Add a Book In It: Fiction\n",
            "Enter The Book You Want To Exist In The Library: kkkk\n",
            "The Books in Fiction department is :\n",
            "1984\n",
            "To Kill a Mockingbird\n",
            "kkkk\n",
            "The Books in Science department is :\n",
            "A Brief History of Time\n",
            "The Selfish Gene\n",
            "The Books in History department is :\n",
            "Sapiens\n",
            "Guns, Germs, and Steel\n"
          ]
        }
      ]
    },
    {
      "cell_type": "code",
      "source": [
        "#Digits Summation\n",
        "\n",
        "def summationDigits(num1,num2):\n",
        "  digit_one=num1%10\n",
        "  digit_two=num2%10\n",
        "  print(f\"The Summation Of The Last Digits= {digit_one+digit_two}\")\n",
        "\n",
        "num1=int(input(\"Enter The First Number: \"))\n",
        "num2=int(input(\"Enter The Second Number: \"))\n",
        "\n",
        "summationDigits(num1,num2)\n"
      ],
      "metadata": {
        "colab": {
          "base_uri": "https://localhost:8080/"
        },
        "id": "Px--7zqqokf8",
        "outputId": "ed35003e-cfb8-4ad5-b7dd-5cbdeac162ff"
      },
      "execution_count": null,
      "outputs": [
        {
          "output_type": "stream",
          "name": "stdout",
          "text": [
            "Enter The First Number: 454\n",
            "Enter The Second Number: 454\n",
            "The Summation Of The Last Digits= 8\n"
          ]
        }
      ]
    },
    {
      "cell_type": "code",
      "source": [
        "#Summation From 1 To N\n",
        "\n",
        "def summation(number):\n",
        "  sum=0\n",
        "  for num in range(1,number+1):\n",
        "    sum+=num\n",
        "  print(f\"The Summation= {sum}\")\n",
        "\n",
        "number=int(input(\"Please, Enter The Number: \"))\n",
        "\n",
        "summation(number)"
      ],
      "metadata": {
        "colab": {
          "base_uri": "https://localhost:8080/"
        },
        "id": "iBANsX6FpiJC",
        "outputId": "d217bd19-e9c3-4498-84fc-3d3a508b8d75"
      },
      "execution_count": null,
      "outputs": [
        {
          "output_type": "stream",
          "name": "stdout",
          "text": [
            "Please, Enter The Number: 10\n",
            "The Summation= 55\n"
          ]
        }
      ]
    },
    {
      "cell_type": "code",
      "source": [
        "#Two Numbers\n",
        "import math\n",
        "def floor_func(num1,num2):\n",
        "  print(f\"The Floor Division= {num1//num2}\")\n",
        "def ceil_func(num1,num2):\n",
        "  res_ceil=math.ceil(num1/num2)\n",
        "  print(f\"The ceil Division= {res_ceil}\")\n",
        "def round_func(num1,num2):\n",
        "  print(f\"The Floor Division= {round(num1/num2)}\")\n",
        "\n",
        "\n",
        "num1=int(input(\"Enter The First Number: \"))\n",
        "num2=int(input(\"Enter The Second Number: \"))\n",
        "\n",
        "floor_func(num1,num2)\n",
        "ceil_func(num1,num2)\n",
        "round_func(num1,num2)"
      ],
      "metadata": {
        "id": "-P2zYChkqUip"
      },
      "execution_count": null,
      "outputs": []
    },
    {
      "cell_type": "code",
      "source": [
        "#Conditions\n",
        "\n",
        "num1=int(input(\"Enter The First Number: \"))\n",
        "num2=int(input(\"Enter The Second Number: \"))\n",
        "\n",
        "if num1>=num2:\n",
        "  print(\"Yes, Number1 is Greater Than Number2\")\n",
        "else:\n",
        "  print(\"No,Number1 is Not Greater Than or Equal To Number2\")"
      ],
      "metadata": {
        "colab": {
          "base_uri": "https://localhost:8080/"
        },
        "id": "2yiuwX6-vgvv",
        "outputId": "53c13d9b-0e99-4967-eca7-f3a174b029ed"
      },
      "execution_count": null,
      "outputs": [
        {
          "output_type": "stream",
          "name": "stdout",
          "text": [
            "Enter The First Number: 5\n",
            "Enter The Second Number: 7\n",
            "No,Number1 is Not Greater Than or Equal To Number2\n"
          ]
        }
      ]
    },
    {
      "cell_type": "code",
      "source": [
        "#Multiples\n",
        "\n",
        "num1=int(input(\"Enter The First Number: \"))\n",
        "num2=int(input(\"Enter The Second Number: \"))\n",
        "\n",
        "if num1%num2==0 or num2%num1==0:\n",
        "  print(\"Multiples\")\n",
        "else:\n",
        "  print(\"No Multiples\")"
      ],
      "metadata": {
        "colab": {
          "base_uri": "https://localhost:8080/"
        },
        "id": "C-U-uRiKwT-G",
        "outputId": "3986b5fa-2576-4ac3-a5d6-5025334f7381"
      },
      "execution_count": null,
      "outputs": [
        {
          "output_type": "stream",
          "name": "stdout",
          "text": [
            "Enter The First Number: 12\n",
            "Enter The Second Number: 5\n",
            "No Multiples\n"
          ]
        }
      ]
    },
    {
      "cell_type": "code",
      "source": [
        "#Anagrams\n",
        "def order_first(string_one):\n",
        "  for char1 in string_one:\n",
        "    list_one.append(char1)\n",
        "  list_one.sort()\n",
        "  # print(list_one)\n",
        "\n",
        "def order_second(string_two):\n",
        "  for char2 in string_two:\n",
        "    list_two.append(char2)\n",
        "  list_two.sort()\n",
        "  # print(list_two)\n",
        "string_one=input(\"Enter THe First String: \").strip().lower()\n",
        "string_two=input(\"Enter THe Second String: \").strip().lower()\n",
        "\n",
        "list_one=[]\n",
        "list_two=[]\n",
        "\n",
        "order_first(string_one)\n",
        "order_second(string_two)\n",
        "\n",
        "if list_one==list_two:\n",
        "  print(\"True\")\n",
        "else:\n",
        "  print(\"False\")"
      ],
      "metadata": {
        "colab": {
          "base_uri": "https://localhost:8080/"
        },
        "id": "Po_LFU04xShD",
        "outputId": "8b4684c1-8354-4639-883e-a5360926dd97"
      },
      "execution_count": null,
      "outputs": [
        {
          "output_type": "stream",
          "name": "stdout",
          "text": [
            "Enter THe First String: dd\n",
            "Enter THe Second String: gg\n",
            "False\n"
          ]
        }
      ]
    },
    {
      "cell_type": "code",
      "source": [
        "#unpacking\n",
        "def info(name,*skills,**skillsWithProgress):\n",
        "  print(f\"Hello, {name}\")\n",
        "  for information in skills:\n",
        "    print(information)\n",
        "  for skill,progress in skillsWithProgress.items():\n",
        "    print(f\"The Skill {skill} And It\\'s progress is: {progress}\")\n",
        "\n",
        "\n",
        "info(\"osama\",\"Html\",Css=80,JavaScript=20)"
      ],
      "metadata": {
        "colab": {
          "base_uri": "https://localhost:8080/"
        },
        "id": "r0wwt89IRLan",
        "outputId": "6975a0c6-24cc-4e39-81be-6fb827e7da8e"
      },
      "execution_count": null,
      "outputs": [
        {
          "output_type": "stream",
          "name": "stdout",
          "text": [
            "Hello, osama\n",
            "Html\n",
            "The Skill Css And It's progress is: 80\n",
            "The Skill JavaScript And It's progress is: 20\n"
          ]
        }
      ]
    },
    {
      "cell_type": "code",
      "source": [
        "#Recursion Function\n",
        "#wwwoooorrldd\n",
        "def cleanWord(word):\n",
        "  if len(word)==1:\n",
        "    return word\n",
        "  if word[0]==word[1]:\n",
        "    return cleanWord(word[1:])\n",
        "  return  word[0]+ cleanWord(word[1:])\n",
        "\n",
        "\n",
        "cleanWord(\"wwwoooorrldd\")"
      ],
      "metadata": {
        "colab": {
          "base_uri": "https://localhost:8080/",
          "height": 36
        },
        "id": "_bs1KCiSYX2t",
        "outputId": "7e2d5763-1cf3-4b8a-8788-754135c72f41"
      },
      "execution_count": null,
      "outputs": [
        {
          "output_type": "execute_result",
          "data": {
            "text/plain": [
              "'world'"
            ],
            "application/vnd.google.colaboratory.intrinsic+json": {
              "type": "string"
            }
          },
          "metadata": {},
          "execution_count": 19
        }
      ]
    },
    {
      "cell_type": "code",
      "source": [
        "from google.colab import files\n",
        "uploaded= files.upload()\n",
        "\n",
        "file=open(\"file_handling.txt\",\"r\")\n",
        "print(file.read())"
      ],
      "metadata": {
        "colab": {
          "base_uri": "https://localhost:8080/",
          "height": 160
        },
        "id": "uwfb6z4AhrpQ",
        "outputId": "c6f81c25-f688-4f43-c005-8232a7afb922"
      },
      "execution_count": null,
      "outputs": [
        {
          "output_type": "display_data",
          "data": {
            "text/plain": [
              "<IPython.core.display.HTML object>"
            ],
            "text/html": [
              "\n",
              "     <input type=\"file\" id=\"files-33f4d4de-be7f-4043-b7cd-0cc1f54560e2\" name=\"files[]\" multiple disabled\n",
              "        style=\"border:none\" />\n",
              "     <output id=\"result-33f4d4de-be7f-4043-b7cd-0cc1f54560e2\">\n",
              "      Upload widget is only available when the cell has been executed in the\n",
              "      current browser session. Please rerun this cell to enable.\n",
              "      </output>\n",
              "      <script>// Copyright 2017 Google LLC\n",
              "//\n",
              "// Licensed under the Apache License, Version 2.0 (the \"License\");\n",
              "// you may not use this file except in compliance with the License.\n",
              "// You may obtain a copy of the License at\n",
              "//\n",
              "//      http://www.apache.org/licenses/LICENSE-2.0\n",
              "//\n",
              "// Unless required by applicable law or agreed to in writing, software\n",
              "// distributed under the License is distributed on an \"AS IS\" BASIS,\n",
              "// WITHOUT WARRANTIES OR CONDITIONS OF ANY KIND, either express or implied.\n",
              "// See the License for the specific language governing permissions and\n",
              "// limitations under the License.\n",
              "\n",
              "/**\n",
              " * @fileoverview Helpers for google.colab Python module.\n",
              " */\n",
              "(function(scope) {\n",
              "function span(text, styleAttributes = {}) {\n",
              "  const element = document.createElement('span');\n",
              "  element.textContent = text;\n",
              "  for (const key of Object.keys(styleAttributes)) {\n",
              "    element.style[key] = styleAttributes[key];\n",
              "  }\n",
              "  return element;\n",
              "}\n",
              "\n",
              "// Max number of bytes which will be uploaded at a time.\n",
              "const MAX_PAYLOAD_SIZE = 100 * 1024;\n",
              "\n",
              "function _uploadFiles(inputId, outputId) {\n",
              "  const steps = uploadFilesStep(inputId, outputId);\n",
              "  const outputElement = document.getElementById(outputId);\n",
              "  // Cache steps on the outputElement to make it available for the next call\n",
              "  // to uploadFilesContinue from Python.\n",
              "  outputElement.steps = steps;\n",
              "\n",
              "  return _uploadFilesContinue(outputId);\n",
              "}\n",
              "\n",
              "// This is roughly an async generator (not supported in the browser yet),\n",
              "// where there are multiple asynchronous steps and the Python side is going\n",
              "// to poll for completion of each step.\n",
              "// This uses a Promise to block the python side on completion of each step,\n",
              "// then passes the result of the previous step as the input to the next step.\n",
              "function _uploadFilesContinue(outputId) {\n",
              "  const outputElement = document.getElementById(outputId);\n",
              "  const steps = outputElement.steps;\n",
              "\n",
              "  const next = steps.next(outputElement.lastPromiseValue);\n",
              "  return Promise.resolve(next.value.promise).then((value) => {\n",
              "    // Cache the last promise value to make it available to the next\n",
              "    // step of the generator.\n",
              "    outputElement.lastPromiseValue = value;\n",
              "    return next.value.response;\n",
              "  });\n",
              "}\n",
              "\n",
              "/**\n",
              " * Generator function which is called between each async step of the upload\n",
              " * process.\n",
              " * @param {string} inputId Element ID of the input file picker element.\n",
              " * @param {string} outputId Element ID of the output display.\n",
              " * @return {!Iterable<!Object>} Iterable of next steps.\n",
              " */\n",
              "function* uploadFilesStep(inputId, outputId) {\n",
              "  const inputElement = document.getElementById(inputId);\n",
              "  inputElement.disabled = false;\n",
              "\n",
              "  const outputElement = document.getElementById(outputId);\n",
              "  outputElement.innerHTML = '';\n",
              "\n",
              "  const pickedPromise = new Promise((resolve) => {\n",
              "    inputElement.addEventListener('change', (e) => {\n",
              "      resolve(e.target.files);\n",
              "    });\n",
              "  });\n",
              "\n",
              "  const cancel = document.createElement('button');\n",
              "  inputElement.parentElement.appendChild(cancel);\n",
              "  cancel.textContent = 'Cancel upload';\n",
              "  const cancelPromise = new Promise((resolve) => {\n",
              "    cancel.onclick = () => {\n",
              "      resolve(null);\n",
              "    };\n",
              "  });\n",
              "\n",
              "  // Wait for the user to pick the files.\n",
              "  const files = yield {\n",
              "    promise: Promise.race([pickedPromise, cancelPromise]),\n",
              "    response: {\n",
              "      action: 'starting',\n",
              "    }\n",
              "  };\n",
              "\n",
              "  cancel.remove();\n",
              "\n",
              "  // Disable the input element since further picks are not allowed.\n",
              "  inputElement.disabled = true;\n",
              "\n",
              "  if (!files) {\n",
              "    return {\n",
              "      response: {\n",
              "        action: 'complete',\n",
              "      }\n",
              "    };\n",
              "  }\n",
              "\n",
              "  for (const file of files) {\n",
              "    const li = document.createElement('li');\n",
              "    li.append(span(file.name, {fontWeight: 'bold'}));\n",
              "    li.append(span(\n",
              "        `(${file.type || 'n/a'}) - ${file.size} bytes, ` +\n",
              "        `last modified: ${\n",
              "            file.lastModifiedDate ? file.lastModifiedDate.toLocaleDateString() :\n",
              "                                    'n/a'} - `));\n",
              "    const percent = span('0% done');\n",
              "    li.appendChild(percent);\n",
              "\n",
              "    outputElement.appendChild(li);\n",
              "\n",
              "    const fileDataPromise = new Promise((resolve) => {\n",
              "      const reader = new FileReader();\n",
              "      reader.onload = (e) => {\n",
              "        resolve(e.target.result);\n",
              "      };\n",
              "      reader.readAsArrayBuffer(file);\n",
              "    });\n",
              "    // Wait for the data to be ready.\n",
              "    let fileData = yield {\n",
              "      promise: fileDataPromise,\n",
              "      response: {\n",
              "        action: 'continue',\n",
              "      }\n",
              "    };\n",
              "\n",
              "    // Use a chunked sending to avoid message size limits. See b/62115660.\n",
              "    let position = 0;\n",
              "    do {\n",
              "      const length = Math.min(fileData.byteLength - position, MAX_PAYLOAD_SIZE);\n",
              "      const chunk = new Uint8Array(fileData, position, length);\n",
              "      position += length;\n",
              "\n",
              "      const base64 = btoa(String.fromCharCode.apply(null, chunk));\n",
              "      yield {\n",
              "        response: {\n",
              "          action: 'append',\n",
              "          file: file.name,\n",
              "          data: base64,\n",
              "        },\n",
              "      };\n",
              "\n",
              "      let percentDone = fileData.byteLength === 0 ?\n",
              "          100 :\n",
              "          Math.round((position / fileData.byteLength) * 100);\n",
              "      percent.textContent = `${percentDone}% done`;\n",
              "\n",
              "    } while (position < fileData.byteLength);\n",
              "  }\n",
              "\n",
              "  // All done.\n",
              "  yield {\n",
              "    response: {\n",
              "      action: 'complete',\n",
              "    }\n",
              "  };\n",
              "}\n",
              "\n",
              "scope.google = scope.google || {};\n",
              "scope.google.colab = scope.google.colab || {};\n",
              "scope.google.colab._files = {\n",
              "  _uploadFiles,\n",
              "  _uploadFilesContinue,\n",
              "};\n",
              "})(self);\n",
              "</script> "
            ]
          },
          "metadata": {}
        },
        {
          "output_type": "stream",
          "name": "stdout",
          "text": [
            "Saving file_handling.txt to file_handling (1).txt\n",
            "01 html\n",
            "02 CSS\n",
            "03 java Script\n",
            "04 python\n",
            "05 java\n"
          ]
        }
      ]
    },
    {
      "cell_type": "code",
      "source": [
        "#Max And Minimum\n",
        "def max_number(num1,num2,num3):\n",
        "  if num1>num2 and num1>num3:\n",
        "    print(f\"The Maximum Number is {num1}\")\n",
        "  if num2>num1 and num2>num3:\n",
        "    print(f\"The Maximum Number is {num2}\")\n",
        "  if num3>num2 and num3>num1:\n",
        "    print(f\"The Maximum Number is {num3}\")\n",
        "def minimum_number(num1,num2,num3):\n",
        "  if num1<num2 and num1<num3:\n",
        "    print(f\"The Minimum Number is {num1}\")\n",
        "  if num2<num1 and num2<num3:\n",
        "    print(f\"The Minimum Number is {num2}\")\n",
        "  if num3<num2 and num3<num1:\n",
        "    print(f\"The Minimum Number is {num3}\")\n",
        "\n",
        "\n",
        "num1=int(input(\"Enter The First Number: \"))\n",
        "num2=int(input(\"Enter The Second Number: \"))\n",
        "num3=int(input(\"Enter The Third Number: \"))\n",
        "\n",
        "print(f\"print The Maximum Number Is: {max(num1,num2,num3)}\")\n",
        "print(f\"print The Minimmum Number Is: {min(num1,num2,num3)}\")\n",
        "\n",
        "\n",
        "# max_number(num1,num2,num3)\n",
        "# minimum_number(num1,num2,num3)"
      ],
      "metadata": {
        "colab": {
          "base_uri": "https://localhost:8080/"
        },
        "id": "sx6Ngy9ioO8U",
        "outputId": "86359b44-0f74-4a7c-c1e8-d9f5f9f27d31"
      },
      "execution_count": null,
      "outputs": [
        {
          "output_type": "stream",
          "name": "stdout",
          "text": [
            "Enter The First Number: 5\n",
            "Enter The Second Number: 4\n",
            "Enter The Third Number: 4\n",
            "print The Maximum Number Is: 5\n",
            "print The Minimmum Number Is: 4\n"
          ]
        }
      ]
    },
    {
      "cell_type": "code",
      "source": [
        "#Brothers\n",
        "name1=input(\"Enter The First Name: \").strip().lower()\n",
        "name2=input(\"Enter The Second Name: \").strip().lower()\n",
        "\n",
        "name1_list=name1.split()\n",
        "name2_list=name2.split()\n",
        "\n",
        "if name1_list[1]==name2_list[1]:\n",
        "  print(\"They Are Brothers\")\n",
        "else:\n",
        "  print(\"Not Brothers\")\n"
      ],
      "metadata": {
        "colab": {
          "base_uri": "https://localhost:8080/"
        },
        "id": "jzkbsIQFrqzx",
        "outputId": "a3d82a7d-8744-42db-9078-3f5288bbe956"
      },
      "execution_count": null,
      "outputs": [
        {
          "output_type": "stream",
          "name": "stdout",
          "text": [
            "Enter The First Name: mmmm jjjj\n",
            "Enter The Second Name: gggg llll\n",
            "Not Brothers\n"
          ]
        }
      ]
    },
    {
      "cell_type": "code",
      "source": [
        "#Capital Or Small Digit\n",
        "enter=input(\"Enter The Alphabet Or The Digit: \")\n",
        "\n",
        "if ord(enter)>=48 and ord(enter)<=57:\n",
        "  print(\"This Is a Digit\")\n",
        "if ord(enter)>=97 and ord(enter)<=122:\n",
        "  print(\"This Is a Small Alphabet\")\n",
        "if ord(enter)>=65 and ord(enter)<=90:\n",
        "  print(\"This Is a Capital Alphabet\")\n",
        "\n"
      ],
      "metadata": {
        "colab": {
          "base_uri": "https://localhost:8080/"
        },
        "id": "7jMba2qXtNek",
        "outputId": "2661371e-9ae8-422a-92c9-d9e8789d8612"
      },
      "execution_count": null,
      "outputs": [
        {
          "output_type": "stream",
          "name": "stdout",
          "text": [
            "Enter The Alphabet Or The Digit: 5\n",
            "This Is a Digit\n"
          ]
        }
      ]
    },
    {
      "cell_type": "code",
      "source": [
        "#Char\n",
        "enter=input(\"Enter The Alphabet: \")\n",
        "\n",
        "if ord(enter)>=65 and ord(enter)<=90: #Capital\n",
        "  convert=chr(ord(enter)+32)          #Small\n",
        "  print(convert)\n",
        "\n",
        "if ord(enter)>=97 and ord(enter)<=122: #Small\n",
        "  convert=chr(ord(enter)-32)          #Small\n",
        "  print(convert)"
      ],
      "metadata": {
        "colab": {
          "base_uri": "https://localhost:8080/"
        },
        "id": "-rg8yuEfy8cj",
        "outputId": "5daf18d8-a6e7-4f52-a895-1103fb28736b"
      },
      "execution_count": null,
      "outputs": [
        {
          "output_type": "stream",
          "name": "stdout",
          "text": [
            "Enter The Alphabet: z\n",
            "Z\n"
          ]
        }
      ]
    },
    {
      "cell_type": "code",
      "source": [
        "#Calculator\n",
        "def add(num1,num2):\n",
        "  print(f\"The Summation= {num1+num2} \")\n",
        "def sub(num1,num2):\n",
        "  print(f\"The Subtraction= {num1-num2} \")\n",
        "def multiply(num1,num2):\n",
        "  print(f\"The Multiplication= {num1*num2} \")\n",
        "def div(num1,num2):\n",
        " try:\n",
        "  print(f\"The Division= {num1/num2} \")\n",
        " except:\n",
        "  print(\"Zero Devision Error\")\n",
        "\n",
        "num1=int(input(\"Enter The First Number: \"))\n",
        "num2=int(input(\"Enter The Second Number: \"))\n",
        "\n",
        "\n",
        "add(num1,num2)\n",
        "sub(num1,num2)\n",
        "multiply(num1,num2)\n",
        "div(num1,num2)"
      ],
      "metadata": {
        "colab": {
          "base_uri": "https://localhost:8080/"
        },
        "id": "PRwZGbpf0d93",
        "outputId": "96ac03bb-0ccf-4583-c7c7-e34aeb2fdcf9"
      },
      "execution_count": null,
      "outputs": [
        {
          "output_type": "stream",
          "name": "stdout",
          "text": [
            "Enter The First Number: 5\n",
            "Enter The Second Number: 0\n",
            "The Summation= 5 \n",
            "The Subtraction= 5 \n",
            "The Multiplication= 0 \n",
            "Zero Devision Error\n"
          ]
        }
      ]
    },
    {
      "cell_type": "code",
      "source": [
        "#Two Sum Problems\n",
        "myList=[2,7,8,9]\n",
        "target=int(input(\"Enter The Target Number: \"))\n",
        "index=[]\n",
        "for num in myList:\n",
        "  for loop in myList:\n",
        "    if myList.index(num) !=myList.index(loop):\n",
        "      if num+loop==target:\n",
        "        index.append(myList.index(num))\n",
        "        index.append(myList.index(loop))\n",
        "print(f\"The Index of The First Number= {index[0]}, The Index of The Second Number= {index[1]}\")"
      ],
      "metadata": {
        "colab": {
          "base_uri": "https://localhost:8080/"
        },
        "id": "n87knnY98E22",
        "outputId": "0818fd3a-bdcf-4752-c38e-e571e7909f35"
      },
      "execution_count": null,
      "outputs": [
        {
          "output_type": "stream",
          "name": "stdout",
          "text": [
            "Enter The Target Number: 9\n",
            "The Index of The First Number= 0, The Index of The Second Number= 1\n"
          ]
        }
      ]
    },
    {
      "cell_type": "code",
      "source": [
        "#First Digit\n",
        "num=input(\"Enter THe Number You Want: \")\n",
        "if int(num[0])%2==0:\n",
        "  print(\"Even\")\n",
        "if int(num[0])%2!=0:\n",
        "  print(\"Odd\")"
      ],
      "metadata": {
        "colab": {
          "base_uri": "https://localhost:8080/"
        },
        "id": "A79aAhQ_9zKB",
        "outputId": "bc7dd3c7-5c47-4582-f03d-20a664302fc5"
      },
      "execution_count": null,
      "outputs": [
        {
          "output_type": "stream",
          "name": "stdout",
          "text": [
            "Enter THe Number You Want: 321\n",
            "Odd\n"
          ]
        }
      ]
    },
    {
      "cell_type": "code",
      "source": [
        "#Coordinate Of Points\n",
        "x=float(input(\"Enter X: \"))\n",
        "y=float(input(\"Enter Y: \"))\n",
        "if x>0 :\n",
        "  if y>0:\n",
        "    print(\"Q1\")\n",
        "  if y<0:\n",
        "    print(\"Q4\")\n",
        "\n",
        "\n",
        "if x<0:\n",
        "  if y>0:\n",
        "    print(\"Q2\")\n",
        "  if y<0:\n",
        "    print(\"Q3\")\n",
        "\n",
        "if x==0 and y==0:\n",
        "  print(\"Origem\")\n",
        "elif y==0:\n",
        "  print(\"Eixo X\")\n",
        "elif x==0:\n",
        "  print(\"Eixo Y\")"
      ],
      "metadata": {
        "colab": {
          "base_uri": "https://localhost:8080/"
        },
        "id": "YvQ01SMb-wW7",
        "outputId": "dca6fc8b-8b2f-4517-e6b9-a26bd1735f39"
      },
      "execution_count": null,
      "outputs": [
        {
          "output_type": "stream",
          "name": "stdout",
          "text": [
            "Enter X: 1.1\n",
            "Enter Y: -2.5\n",
            "Q4\n"
          ]
        }
      ]
    },
    {
      "cell_type": "code",
      "source": [
        "#Age In Days\n",
        "age=int(input(\"Enter Your Age in Days, Please: \"))\n",
        "print(f\"{age//365} Years\")\n",
        "monthsDays=age%365\n",
        "print(f\"{monthsDays//30} Months\")\n",
        "print(f\"{monthsDays%30} Days\")"
      ],
      "metadata": {
        "colab": {
          "base_uri": "https://localhost:8080/"
        },
        "id": "LyKrI27hCWt_",
        "outputId": "be71b4bd-d3f5-4327-fd13-4047dfc209c2"
      },
      "execution_count": null,
      "outputs": [
        {
          "output_type": "stream",
          "name": "stdout",
          "text": [
            "Enter Your Age in Days, Please: 800\n",
            "2 Years\n",
            "2 Months\n",
            "10 Days\n"
          ]
        }
      ]
    },
    {
      "cell_type": "code",
      "source": [
        "#Intervals\n",
        "num=float(input(\"Enter The Number You Want: \"))\n",
        "if num>=0 and num<=25:\n",
        "  print(\"Interval [0,25]\")\n",
        "elif num>25 and num<=50:\n",
        "  print(\"Interval (25,50]\")\n",
        "elif num>50 and num<=75:\n",
        "  print(\"Interval (50,75]\")\n",
        "elif num>75 and num<=100:\n",
        "  print(\"Interval (75,100]\")\n",
        "else:\n",
        "  print(\"Out of Intervals\")"
      ],
      "metadata": {
        "colab": {
          "base_uri": "https://localhost:8080/"
        },
        "id": "vS6OOOxcE2Rf",
        "outputId": "cb393780-b864-4e3f-8c83-d4199fb2bf0b"
      },
      "execution_count": null,
      "outputs": [
        {
          "output_type": "stream",
          "name": "stdout",
          "text": [
            "Enter The Number You Want: -25.2\n",
            "Out of Intervals\n"
          ]
        }
      ]
    },
    {
      "cell_type": "code",
      "source": [
        "#Sort Numbers\n",
        "num1=int(input(\"Enter THe First Number: \"))\n",
        "num2=int(input(\"Enter THe Second Number: \"))\n",
        "num3=int(input(\"Enter THe Third Number: \"))\n",
        "myList=[]\n",
        "myList.append(num1)\n",
        "myList.append(num2)\n",
        "myList.append(num3)\n",
        "myList.sort()\n",
        "for order in myList:\n",
        "  print(order)\n",
        "print(\"\\n\")\n",
        "print(num1,num2,num3,sep=\"\\n\")"
      ],
      "metadata": {
        "colab": {
          "base_uri": "https://localhost:8080/"
        },
        "id": "7lBNzHRKJAMP",
        "outputId": "6841e677-73ff-4310-9401-47e3c29b88fd"
      },
      "execution_count": null,
      "outputs": [
        {
          "output_type": "stream",
          "name": "stdout",
          "text": [
            "Enter THe First Number: 7\n",
            "Enter THe Second Number: 1\n",
            "Enter THe Third Number: 80\n",
            "1\n",
            "7\n",
            "80\n",
            "\n",
            "\n",
            "7\n",
            "1\n",
            "80\n"
          ]
        }
      ]
    },
    {
      "cell_type": "code",
      "source": [
        "#Float or Integer\n",
        "num=float(input(\"Please Enter THe Number:\"))\n",
        "if num==int(num):\n",
        "  print(f\"int {int(num)}\")\n",
        "elif num==float(num):\n",
        "  print(f\"float {int(num)} {num-(int(num)):.5f}\")"
      ],
      "metadata": {
        "colab": {
          "base_uri": "https://localhost:8080/"
        },
        "id": "mn2VSgFoJYFU",
        "outputId": "2cfa5013-0c6f-41fc-966b-eaa3b3e47ae7"
      },
      "execution_count": null,
      "outputs": [
        {
          "output_type": "stream",
          "name": "stdout",
          "text": [
            "Please Enter THe Number:534.958\n",
            "float 534 0.95800\n"
          ]
        }
      ]
    },
    {
      "cell_type": "code",
      "source": [
        "import requests\n",
        "from bs4 import BeautifulSoup\n",
        "import pandas as pd\n",
        "import time\n",
        "\n",
        "base_url = \"https://wuzzuf.net/search/jobs/?a=navbg&q=&start=\"\n",
        "jobs = []\n",
        "\n",
        "for page in range(0, 5):  # First 5 pages\n",
        "    print(f\"Scraping page {page+1}...\")\n",
        "    url = base_url + str(page)\n",
        "    response = requests.get(url)\n",
        "    soup = BeautifulSoup(response.content, \"html.parser\")\n",
        "\n",
        "    job_cards = soup.find_all(\"div\", class_=\"css-1gatmva\")  # Container class for job cards\n",
        "\n",
        "    for card in job_cards:\n",
        "        # Job title\n",
        "        title_elem = card.find(\"h2\", class_=\"css-m604qf\")\n",
        "        title = title_elem.text.strip() if title_elem else \"N/A\"\n",
        "\n",
        "        # Company name\n",
        "        company_elem = card.find(\"a\", class_=\"css-17s97q8\")\n",
        "        company = company_elem.text.strip() if company_elem else \"N/A\"\n",
        "\n",
        "        # Location\n",
        "        location_elem = card.find(\"span\", class_=\"css-5wys0k\")\n",
        "        location = location_elem.text.strip() if location_elem else \"N/A\"\n",
        "\n",
        "        # Posting date\n",
        "        date_elem = card.find(\"div\", class_=\"css-4c4ojb\")\n",
        "        date_posted = date_elem.text.strip() if date_elem else \"N/A\"\n",
        "\n",
        "        # Job URL\n",
        "        link_elem = card.find(\"a\", class_=\"css-o171kl\")\n",
        "        job_url = \"https://wuzzuf.net\" + link_elem[\"href\"] if link_elem else \"N/A\"\n",
        "\n",
        "        # Short description\n",
        "        desc_elem = card.find(\"div\", class_=\"css-y4udm8\")\n",
        "        description = desc_elem.text.strip() if desc_elem else \"N/A\"\n",
        "\n",
        "        jobs.append({\n",
        "            \"Job Title\": title,\n",
        "            \"Company\": company,\n",
        "            \"Location\": location,\n",
        "            \"Date Posted\": date_posted,\n",
        "            \"Job URL\": job_url,\n",
        "            \"Short Description\": description\n",
        "        })\n",
        "\n",
        "    time.sleep(1)  # Be nice to the server\n",
        "\n",
        "# Save to CSV\n",
        "df = pd.DataFrame(jobs)\n",
        "df.to_csv(\"wuzzuf_jobs.csv\", index=False)\n",
        "print(\"✅ Done! Data saved to wuzzuf_jobs.csv\")\n"
      ],
      "metadata": {
        "id": "TphXlMf_MTSM",
        "colab": {
          "base_uri": "https://localhost:8080/"
        },
        "outputId": "99e4608a-248c-4202-fe9d-d74b4d370d7e"
      },
      "execution_count": null,
      "outputs": [
        {
          "output_type": "stream",
          "name": "stdout",
          "text": [
            "Scraping page 1...\n",
            "Scraping page 2...\n",
            "Scraping page 3...\n",
            "Scraping page 4...\n",
            "Scraping page 5...\n",
            "✅ Done! Data saved to wuzzuf_jobs.csv\n"
          ]
        }
      ]
    },
    {
      "cell_type": "code",
      "source": [
        "#Comparison\n",
        "num1=int(input(\"Enter The First Number: \"))\n",
        "num2=int(input(\"Enter The Second Number: \"))\n",
        "symbol=input(\"Enter The Symbol: \")\n",
        "if symbol==\"<\":\n",
        "  if num1<num2:\n",
        "    print(\"Right\")\n",
        "  else:\n",
        "    print(\"Wrong\")\n",
        "elif symbol==\">\":\n",
        "  if num1>num2:\n",
        "    print(\"Right\")\n",
        "  else:\n",
        "    print(\"Wrong\")\n",
        "elif symbol==\"=\":\n",
        "  if num1==num2:\n",
        "    print(\"Right\")\n",
        "  else:\n",
        "    print(\"Wrong\")"
      ],
      "metadata": {
        "colab": {
          "base_uri": "https://localhost:8080/"
        },
        "id": "Vnakp_ITvF5W",
        "outputId": "62ccc15d-4cce-436e-f915-ea9c29f37e52"
      },
      "execution_count": null,
      "outputs": [
        {
          "output_type": "stream",
          "name": "stdout",
          "text": [
            "Enter The First Number: 5\n",
            "Enter The Second Number: 3\n",
            "Enter The Symbol: >\n",
            "Right\n"
          ]
        }
      ]
    },
    {
      "cell_type": "code",
      "source": [
        "#Mathmatical Expression\n",
        "num1=int(input(\"Enter The First Number: \"))\n",
        "num2=int(input(\"Enter The Second Number: \"))\n",
        "result=int(input(\"Enter The Result: \"))\n",
        "operation=input(\"Enter The Operation: \")\n",
        "if operation==\"+\":\n",
        "  if num1+num2==result:\n",
        "    print(\"Yes\")\n",
        "  else:\n",
        "    print(num1+num2)\n",
        "elif operation==\"-\":\n",
        "  if num1-num2==result:\n",
        "    print(\"Yes\")\n",
        "  else:\n",
        "    print(num1-num2)\n",
        "elif operation==\"*\":\n",
        "  if num1*num2==result:\n",
        "    print(\"Yes\")\n",
        "  else:\n",
        "    print(num1*num2)"
      ],
      "metadata": {
        "colab": {
          "base_uri": "https://localhost:8080/"
        },
        "id": "66J4hG0YwdTS",
        "outputId": "854947e6-9d4e-4ebc-ec26-2597f87d4d0e"
      },
      "execution_count": null,
      "outputs": [
        {
          "output_type": "stream",
          "name": "stdout",
          "text": [
            "Enter The First Number: 8\n",
            "Enter The Second Number: 5\n",
            "Enter The Result: 5\n",
            "Enter The Operation: -\n",
            "3\n"
          ]
        }
      ]
    },
    {
      "cell_type": "code",
      "source": [
        "#Boundries\n",
        "l1=int(input(\"Enter L1:\"))\n",
        "l2=int(input(\"Enter L2:\"))\n",
        "l3=int(input(\"Enter L3:\"))\n",
        "l4=int(input(\"Enter L4:\"))\n",
        "if l3<l2:\n",
        "  print(f\"{l3} {l2}\")\n",
        "elif l2==l3:\n",
        "  print(l2)\n",
        "else:\n",
        "  print(-1)"
      ],
      "metadata": {
        "colab": {
          "base_uri": "https://localhost:8080/"
        },
        "id": "cEGpA2lvyLkp",
        "outputId": "b988a1bf-3273-4e42-b1b3-e3ef6c144be5"
      },
      "execution_count": null,
      "outputs": [
        {
          "output_type": "stream",
          "name": "stdout",
          "text": [
            "Enter L1:1\n",
            "Enter L2:5\n",
            "Enter L3:8\n",
            "Enter L4:20\n",
            "-1\n"
          ]
        }
      ]
    },
    {
      "cell_type": "code",
      "source": [
        "#The Last 2 Digits\n",
        "num1=int(input(\"Enter The First Number: \"))\n",
        "num2=int(input(\"Enter The Second Number: \"))\n",
        "num3=int(input(\"Enter The Third Number: \"))\n",
        "num4=int(input(\"Enter The Fourth Number: \"))\n",
        "result=num1*num2*num3*num4\n",
        "print(result%100)"
      ],
      "metadata": {
        "colab": {
          "base_uri": "https://localhost:8080/"
        },
        "id": "Fykm0m1WzbHZ",
        "outputId": "4fffc6c3-59c9-44ab-8422-02da445ca002"
      },
      "execution_count": null,
      "outputs": [
        {
          "output_type": "stream",
          "name": "stdout",
          "text": [
            "Enter The First Number: 3\n",
            "Enter The Second Number: 9\n",
            "Enter The Third Number: 9\n",
            "Enter The Fourth Number: 9\n",
            "87\n"
          ]
        }
      ]
    },
    {
      "cell_type": "code",
      "source": [
        "#Hard Compare\n",
        "num1=int(input(\"Enter The First Number: \"))\n",
        "num2=int(input(\"Enter The Second Number: \"))\n",
        "num3=int(input(\"Enter The Third Number: \"))\n",
        "num4=int(input(\"Enter The Fourth Number: \"))\n",
        "if (num1**num2)>(num3**num4):\n",
        "  print(\"Yes\")\n",
        "else:\n",
        "  print(\"No\")"
      ],
      "metadata": {
        "colab": {
          "base_uri": "https://localhost:8080/"
        },
        "id": "dlRd3rti0Og4",
        "outputId": "c3cc199a-c056-46ad-fd16-b9fc66f32d13"
      },
      "execution_count": null,
      "outputs": [
        {
          "output_type": "stream",
          "name": "stdout",
          "text": [
            "Enter The First Number: 5\n",
            "Enter The Second Number: 2\n",
            "Enter The Third Number: 5\n",
            "Enter The Fourth Number: 2\n",
            "No\n"
          ]
        }
      ]
    },
    {
      "cell_type": "code",
      "source": [
        "#Winter Sale\n",
        "percentage=float(input(\"Enter The Percentage on This Item: \"))\n",
        "after_discount=float(input(\"Enter The Price After Sale: \"))\n",
        "amount_of_discount=((percentage/100)*after_discount)/(1-(percentage/100))\n",
        "before_discount=amount_of_discount+after_discount\n",
        "print(f\"The Price Before Discount is {before_discount:.2f}\")"
      ],
      "metadata": {
        "colab": {
          "base_uri": "https://localhost:8080/"
        },
        "id": "39yHnWUzlPv5",
        "outputId": "6f09414c-ab14-47d0-cf0d-8cd381993b67"
      },
      "execution_count": null,
      "outputs": [
        {
          "output_type": "stream",
          "name": "stdout",
          "text": [
            "Enter The Percentage on This Item: 15\n",
            "Enter The Price After Sale: 20\n",
            "The Price Before Discount is 23.53\n"
          ]
        }
      ]
    },
    {
      "cell_type": "code",
      "source": [
        "#Memo and Momo\n",
        "num1=int(input(\"Memo, Enter Your Number: \"))\n",
        "num2=int(input(\"Momo, Enter Your Number: \"))\n",
        "divisible=int(input(\"Enter K, Please: \"))\n",
        "if num1>0 and num2>0:\n",
        "  if num1%divisible==0 and num2%divisible==0:\n",
        "    print(\"Both\")\n",
        "  elif num1%divisible==0 and num2%divisible!=0:\n",
        "    print(\"Memo\")\n",
        "  elif num1%divisible!=0 and num2%divisible==0:\n",
        "    print(\"Momo\")\n",
        "  elif num1%divisible!=0 and num2%divisible!=0:\n",
        "    print(\"No One\")"
      ],
      "metadata": {
        "colab": {
          "base_uri": "https://localhost:8080/"
        },
        "id": "5gI0rHz4oTGV",
        "outputId": "644ef9a5-7d94-4a1c-9eb6-f185990df706"
      },
      "execution_count": null,
      "outputs": [
        {
          "output_type": "stream",
          "name": "stdout",
          "text": [
            "Memo, Enter Your Number: 22\n",
            "Momo, Enter Your Number: 10\n",
            "Enter K, Please: 2\n",
            "Both\n"
          ]
        }
      ]
    },
    {
      "cell_type": "code",
      "source": [
        "#Next Alphapet\n",
        "alph=input(\"Enter An Alphabet: \")\n",
        "if alph==\"z\":\n",
        "  print(\"a\")\n",
        "else:\n",
        "  next_alph=chr(ord(alph)+1)\n",
        "  print(next_alph)"
      ],
      "metadata": {
        "colab": {
          "base_uri": "https://localhost:8080/"
        },
        "id": "6Qlpsip_pvQS",
        "outputId": "fd59dd43-29de-402e-8ca4-d52eee5ed3f1"
      },
      "execution_count": null,
      "outputs": [
        {
          "output_type": "stream",
          "name": "stdout",
          "text": [
            "a\n",
            "97\n",
            "Enter An Alphabet: y\n",
            "z\n"
          ]
        }
      ]
    },
    {
      "cell_type": "code",
      "source": [
        "#Puzzle\n",
        "num1=int(input(\"Enter The First Number: \"))\n",
        "num2=int(input(\"Enter The Second Number: \"))\n",
        "num3=int(input(\"Enter The Third Number: \"))\n",
        "num4=int(input(\"Enter The Fourth Number: \"))\n",
        "if num1+num2-num3==num4:\n",
        "  print(\"Yes\")\n",
        "elif num1+num2*num3==num4:\n",
        "  print(\"Yes\")\n",
        "elif num1-num2+num3==num4:\n",
        "  print(\"Yes\")\n",
        "elif num1-num2*num3==num4:\n",
        "  print(\"Yes\")\n",
        "elif num1*num2+num3==num4:\n",
        "  print(\"Yes\")\n",
        "elif num1*num2-num3==num4:\n",
        "  print(\"Yes\")\n",
        "else:\n",
        "  print(\"No\")"
      ],
      "metadata": {
        "colab": {
          "base_uri": "https://localhost:8080/"
        },
        "id": "HQQ-ZdvNuY9Y",
        "outputId": "286ffcae-fe5a-42cc-89bb-aa5d81deba78"
      },
      "execution_count": null,
      "outputs": [
        {
          "output_type": "stream",
          "name": "stdout",
          "text": [
            "Enter The First Number: 9\n",
            "Enter The Second Number: 5\n",
            "Enter The Third Number: 3\n",
            "Enter The Fourth Number: 7\n",
            "Yes\n"
          ]
        }
      ]
    },
    {
      "cell_type": "code",
      "source": [
        "#Interval Sweep\n",
        "a,b=map(int,input().split())\n",
        "if a==b or a+1==b or b+1==a:\n",
        "  print(\"yes\")\n",
        "else:\n",
        "  print(\"No\")"
      ],
      "metadata": {
        "colab": {
          "base_uri": "https://localhost:8080/"
        },
        "id": "VbOzg9A-wFXI",
        "outputId": "00e065b9-2d4b-4927-e4b0-aa75fd656307"
      },
      "execution_count": null,
      "outputs": [
        {
          "output_type": "stream",
          "name": "stdout",
          "text": [
            "7 5\n",
            "No\n"
          ]
        }
      ]
    },
    {
      "cell_type": "code",
      "source": [
        "#Adding Bits\n",
        "num1=int(input(\"Enter The First Number: \"))\n",
        "num2=int(input(\"Enter The Second Number: \"))\n",
        "list_bin_num1=list(bin(num1))[2:]\n",
        "list_bin_num2=list(bin(num2))[2:]\n",
        "if len(list_bin_num1)>len(list_bin_num2):\n",
        "  while len(list_bin_num1) > len(list_bin_num2):\n",
        "    list_bin_num2.insert(0,\"0\")\n",
        "if len(list_bin_num1)<len(list_bin_num2):\n",
        "    while len(list_bin_num1) < len(list_bin_num2):\n",
        "      list_bin_num1.insert(0,\"0\")\n",
        "count=-1\n",
        "str_res=\"\"\n",
        "while count>=-len(list_bin_num1):\n",
        "  res=int(list_bin_num1[count])+int(list_bin_num2[count])\n",
        "  res_bin=bin(res)[-1]\n",
        "  str_res+=res_bin\n",
        "  count-=1\n",
        "  reversed=str_res[::-1]\n",
        "print(int(reversed,2))\n",
        "\n",
        "\n"
      ],
      "metadata": {
        "id": "4669b_4Gfrlk",
        "colab": {
          "base_uri": "https://localhost:8080/"
        },
        "outputId": "d0416bf7-15ed-4ed7-96c3-13c47052e899"
      },
      "execution_count": 18,
      "outputs": [
        {
          "output_type": "stream",
          "name": "stdout",
          "text": [
            "Enter The First Number: 9\n",
            "Enter The Second Number: 6\n",
            "15\n"
          ]
        }
      ]
    }
  ]
}